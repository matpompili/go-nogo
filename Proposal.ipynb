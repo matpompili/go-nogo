{
 "cells": [
  {
   "cell_type": "markdown",
   "metadata": {},
   "source": [
    "# PhD proposal - Matteo Pompili\n",
    "$\\newcommand{\\ket}[1]{|{#1}\\rangle} \\newcommand{\\bra}[1]{\\langle{#1}|} \\newcommand{\\braket}[1]{\\langle{#1}\\rangle} \\newcommand{\\ketbra}[1]{\\ket{#1}\\bra{#1}}$"
   ]
  },
  {
   "cell_type": "markdown",
   "metadata": {},
   "source": [
    "## Research goal\n",
    "\n",
    "The goal of my PhD is: **Demonstration of quantum applications on a multi-node network**"
   ]
  },
  {
   "cell_type": "markdown",
   "metadata": {},
   "source": [
    "## Achieved so far\n",
    "\n",
    "### Experimentally\n",
    "\n",
    "So far I built a new setup (LT5) that will act as one of the nodes in three-node experiment.\n",
    "By the end of November we should be able to generate entanglement between LT5 and LT4. \n",
    "\n",
    "### Courses\n",
    "\n",
    "#### January 2018\n",
    "+ Collaboration across disciplines (? GSC)\n",
    "\n",
    "#### October 2018  \n",
    "\n",
    "+ Conversation skills (2 GSC)\n",
    "\n",
    "#### November 2018\n",
    "\n",
    "+ Casimir Course - Programming (5 GSC)\n",
    "+ The Art of Presenting Science (5 GSC)\n",
    "+ QuTech Academy - Quantum Communication and Cryptography (5 GSC)\n",
    "\n",
    "#### December 2018\n",
    "\n",
    "+ Casimir Course - Electronics for Physicists (5 GSC)\n",
    "\n",
    "### Supervision\n",
    "\n",
    "I have been supervising Hans K. C. Beukers, a MSc student, since February. He has been working on improvements that, if successful, will increase the lifetime of our memory qubits.\n",
    "\n",
    "### Outreach\n",
    "\n",
    "I carried out two outreach activities within my MSCA network (*Spin-NANO*):\n",
    "\n",
    "+ January 2018, Sheffield, UK. Introduction to quantum- and nano-technologies to local high-school students.\n",
    "+ September 2018, Brussels, BE. Two days stand about quantum technologies at the ERN, EU Parlamentarium, mainly to children between 5 and 10."
   ]
  },
  {
   "cell_type": "markdown",
   "metadata": {},
   "source": [
    "## Plan\n",
    "\n",
    "#### 2019\n",
    "\n",
    "*Demonstrate the generation of a 3-node GHZ state* and use it to test violation of an appropriate inequality.\n",
    "One of the nodes will use a memory qubit. (First half of 2019)\n",
    "\n",
    "To be able to carry out complex experiments on a 3+ node network with NV centres we need to overhaul our classical controls. \n",
    "In particular, our software infrastructure, although very powerful, has not been updated in years. As a consequence implementing the new experiments would become extremely challenging. \n",
    "*I therefore plan to rewrite the needed software in a modern framework.* \n",
    "I will use the framework that is being developed for the QINC-demonstrator (qmi) and adapt and update our old code to run on this new platform. (Second half / third quarter of 2019)\n",
    "\n",
    "#### 2020\n",
    "\n",
    "*Build 4th node and demonstrate deterministic teleportation of entanglement* as proposed in the QNETWORK proposal. To achieve this we will need memory qubits on at least two nodes.\n",
    "\n",
    "note: Simon is probably leaving @ 3/4 of this year.\n",
    "\n",
    "#### 2021\n",
    "\n",
    "*Write thesis*"
   ]
  },
  {
   "cell_type": "markdown",
   "metadata": {},
   "source": [
    "### Violation of CHSH inequalities for 3-node GHZ state\n",
    "\n",
    "<img src=\"images/sketch_three_nodes.jpg\" width=\"50%\">\n",
    "\n",
    "Let's try to estimate the fidelity of the expected GHZ state. It is likely that we will run the first and second entanglment with different rates $\\alpha$, that is $\\alpha_1$ and $\\alpha_2$.\n",
    "\n",
    "The first entangled state, generated between *Alice* and *Charlie*, will run with $\\alpha_1$. We will probably prefer to run with a low rate here, to maximize fidelity, such that we can run faster with the second one (and lose less on dechoerence of the first entangled state). Let's say we choose $\\alpha_1 = \\max_{F_{AC}} \\alpha$, where $F_{AC}$ is the maximum fidelity of the entangled state between A and C. Dark counts on the ZPL detectors limit the minimum rate, so there will be an $\\alpha_1 > 0$ s.t. fidelity is optimized.\n",
    "\n",
    "If one assumes no dark counts and no other imperfections in the entanglement generation the fidelity of the state goes like $F(\\alpha) = (1-\\alpha)$"
   ]
  },
  {
   "cell_type": "code",
   "execution_count": 1,
   "metadata": {},
   "outputs": [
    {
     "data": {
      "text/plain": [
       "<Figure size 640x480 with 1 Axes>"
      ]
     },
     "metadata": {},
     "output_type": "display_data"
    }
   ],
   "source": [
    "import numpy as np\n",
    "import qutip as qt\n",
    "import matplotlib.pyplot as plt\n",
    "\n",
    "plt.style.use('ggplot')\n",
    "\n",
    "def fidelity(*args):\n",
    "    return qt.fidelity(*args)**2\n",
    "\n",
    "alfas = np.linspace(0,1)\n",
    "fids = np.zeros_like(alfas)\n",
    "for i, x in enumerate(alfas):\n",
    "    updown = qt.tensor(qt.basis(2,1), qt.basis(2,0))\n",
    "    downup = qt.tensor(qt.basis(2,0), qt.basis(2,1))\n",
    "    upup = qt.tensor(qt.basis(2,1), qt.basis(2,1))\n",
    "    psi_ac = (updown + downup).unit()\n",
    "    rho_ac = (1-x) * qt.ket2dm(psi_ac) + (x) * qt.ket2dm(upup)\n",
    "    fids[i] = fidelity(rho_ac, qt.ket2dm(psi_ac))\n",
    "    \n",
    "plt.title('Fidelity without experimental imperfections')\n",
    "plt.xlabel(r'Bright state population $\\alpha$')\n",
    "plt.ylabel(r'Fidelity with $|\\Psi\\rangle$')\n",
    "plt.scatter(alfas, fids)\n",
    "plt.show()"
   ]
  },
  {
   "cell_type": "markdown",
   "metadata": {},
   "source": [
    "At this point the entangled state between A and C can be written as $\\rho_{AC} = f(F_{AC}) \\ketbra{\\Psi_{AC}} + (1-f(F_{AC})) \\frac{\\hat{\\mathbb{I}}}{4}$, where $f(F_{AC})$ is a number s.t. the fidelity of $\\rho_{AC}$ with $\\ketbra{\\Psi_{AC}}$ is $F_{AC}$. For example, if the fidelity is 0.80, then $f(\\alpha_1) \\approx 0.73$."
   ]
  },
  {
   "cell_type": "code",
   "execution_count": 2,
   "metadata": {},
   "outputs": [
    {
     "name": "stdout",
     "output_type": "stream",
     "text": [
      "Fidelity with f=0.73 is: 0.80\n"
     ]
    }
   ],
   "source": [
    "f=0.73\n",
    "downup = qt.tensor(qt.basis(2,0), qt.basis(2,1))\n",
    "updown = qt.tensor(qt.basis(2,1), qt.basis(2,0))\n",
    "psi_ac = (updown + downup).unit()\n",
    "mixed_state = qt.tensor(qt.maximally_mixed_dm(2), qt.maximally_mixed_dm(2))\n",
    "rho_ac = f * qt.ket2dm(psi_ac) + (1-f) * mixed_state\n",
    "print('Fidelity with f={} is: {:.2f}'.format(f, fidelity(rho_ac, qt.ket2dm(psi_ac))))"
   ]
  },
  {
   "cell_type": "markdown",
   "metadata": {},
   "source": [
    "At this point we perform our SWAP gate. The operation will have some fidelity with the ideal SWAP gate. We can model the final state as swapped with probability $p_{SWAP}$ and a mixed carbon state and mixed electron state with probability $1 - p_{SWAP}$. In the distillation paper $p_{SWAP} = 0.98$, but it needs to be combined with the probability of not flipping the electron upon reading (also $\\approx 0.98$). Let's write the whole process as $p_{SWAP} = 0.95$ success probability.\n",
    "$\\rho_{Ac} = p_{SWAP} (f\\ketbra{\\Psi} + (1-f)\\frac{\\hat{\\mathbb{I}}}{4}) + (1-p_{SWAP})tr_C[\\rho_{AC}] \\frac{\\hat{\\mathbb{I_c}}}{4}$.\n",
    "\n",
    "Let's make a quick test with the 0.8 fidelity of before and the swap gate, and let's check the fidelity afterwards."
   ]
  },
  {
   "cell_type": "code",
   "execution_count": 3,
   "metadata": {},
   "outputs": [
    {
     "name": "stdout",
     "output_type": "stream",
     "text": [
      "Fidelity of the state after the swap is: 0.77\n"
     ]
    }
   ],
   "source": [
    "p_swap = 0.95\n",
    "el_el_state = rho_ac\n",
    "el_carbon_state = p_swap * rho_ac + (1 - p_swap) * qt.tensor(rho_ac.ptrace(0), qt.maximally_mixed_dm(2))\n",
    "print('Fidelity of the state after the swap is: {:.2f}'.format(fidelity(el_carbon_state, qt.ket2dm(psi_ac))))"
   ]
  },
  {
   "cell_type": "markdown",
   "metadata": {},
   "source": [
    "At this point we want to generate entanglement again. The electron carbon state will dechoere as times passes. Off diagonal elements will decrese exponentially.\n",
    "In the distillation paper it looks like the number of cycles after which the state dechoered of $1/e$ is 270 ($\\approx 2ms$). At 1/e the fidelity of the entangles state is already lower than the classically correlated state. Therefore we either need to increase the coherence time, or we need to generate entanglement faster."
   ]
  },
  {
   "cell_type": "code",
   "execution_count": 4,
   "metadata": {},
   "outputs": [],
   "source": [
    "def dechoere(m, t, t0):\n",
    "    data = m.full()\n",
    "    diag_m = np.diagflat(m.diag())\n",
    "    data = diag_m + (data - diag_m) * np.exp(-t/t0)\n",
    "    return qt.Qobj(data, dims=m.dims)"
   ]
  },
  {
   "cell_type": "code",
   "execution_count": 5,
   "metadata": {},
   "outputs": [
    {
     "name": "stdout",
     "output_type": "stream",
     "text": [
      "Fidelity with the state after 200 attempts is: 0.59\n"
     ]
    }
   ],
   "source": [
    "cycles_to_entangle = 200\n",
    "cycles_of_coherence = 270\n",
    "fid = fidelity(qt.ket2dm(psi_ac), dechoere(el_carbon_state, cycles_to_entangle, cycles_of_coherence))\n",
    "print('Fidelity with the state after {} attempts is: {:.2f}'.format(cycles_to_entangle, fid))"
   ]
  },
  {
   "cell_type": "markdown",
   "metadata": {},
   "source": [
    "The new entangled state can be generate faster with lower fidelity than the first. Let's try to write down the whole thing.\n",
    "Qubit 1 is electron_alice. Qubit 2 is electron_bob. Qubit 3 is carbon_bob. Qubit 4 is electron_charlie.\n",
    "We assume the fidelity-rate curves of deterministic entanglement (altought we could be able to do better, by getting rid of excitation light in the ZPL).\n",
    "My matching it with the exp data it looks like the following function might do."
   ]
  },
  {
   "cell_type": "code",
   "execution_count": 28,
   "metadata": {},
   "outputs": [
    {
     "name": "stdout",
     "output_type": "stream",
     "text": [
      "Max fidelity achievable with old parameters is 0.846, at alpha = 0.045, which corresponds to a rate = 5.6 Hz\n"
     ]
    }
   ],
   "source": [
    "def alpha_to_fidelity(alpha, dc = 0.01, top_fid = 0.9):\n",
    "    return (1 - np.exp(-alpha/dc)) * (top_fid - alpha)\n",
    "\n",
    "def alpha_to_rate(alpha, speed = 125):\n",
    "    return alpha * speed\n",
    "\n",
    "import scipy as sp\n",
    "\n",
    "opt_res = sp.optimize.minimize_scalar(lambda x: - alpha_to_fidelity(x), bounds=(0,1))\n",
    "slow_alpha = opt_res.x\n",
    "print ('Max fidelity achievable with old parameters is {:.3f}, at alpha = {:.3f}, which corresponds to a rate = {:.1f} Hz'\\\n",
    "       .format(alpha_to_fidelity(slow_alpha),\n",
    "               slow_alpha, \n",
    "               alpha_to_rate(slow_alpha)))"
   ]
  },
  {
   "cell_type": "code",
   "execution_count": 29,
   "metadata": {},
   "outputs": [
    {
     "name": "stdout",
     "output_type": "stream",
     "text": [
      "Now fidelity with Bell state is 0.81573408796723\n"
     ]
    }
   ],
   "source": [
    "# Generate entangled state with max fidelity\n",
    "q1q4_ent_state = alpha_to_fidelity(slow_alpha) * qt.ket2dm(psi_ac) + (1- alpha_to_fidelity(slow_alpha)) * qt.ket2dm(upup)\n",
    "\n",
    "# Apply swap gate or project in mixed state\n",
    "p_swap = 0.95\n",
    "q1q3_ent_state = p_swap * q1q4_ent_state + (1 - p_swap) * mixed_state\n",
    "\n",
    "print('Now fidelity with Bell state is {}'.format(fidelity(q1q3_ent_state, qt.ket2dm(psi_ac))))"
   ]
  },
  {
   "cell_type": "code",
   "execution_count": 89,
   "metadata": {},
   "outputs": [
    {
     "name": "stdout",
     "output_type": "stream",
     "text": [
      "Fidelity of q1-q3 to bell state: 0.74\n",
      "Fidelity of q2-q4 to bell state: 0.70\n",
      "Probability of getting the state before timeout: 0.03\n",
      "Overall generation rate: 0.005950 Hz\n",
      "Overall generation time: 168.070442 s\n"
     ]
    }
   ],
   "source": [
    "# Now we generate entangled state again with lower alpha and we dechoere the first one according to rate\n",
    "\n",
    "fast_alpha = 0.2\n",
    "fast_rate = alpha_to_rate(fast_alpha)\n",
    "slow_rate = alpha_to_rate(slow_alpha)\n",
    "fast_cycles = 200 # 1. / fast_rate / 5.5E-6\n",
    "prob_generation_before_timeout = 1 - np.exp(- fast_rate * 5.5E-6 * fast_cycles) \n",
    "\n",
    "cycles_of_coherence = 1000\n",
    "decohered_q1q3_ent_state = dechoere(q1q3_ent_state, t=fast_cycles, t0=cycles_of_coherence)\n",
    "\n",
    "q2q4_ent_state = alpha_to_fidelity(fast_alpha) * qt.ket2dm(psi_ac) + (1- alpha_to_fidelity(fast_alpha)) * qt.ket2dm(upup)\n",
    "\n",
    "joint_state = qt.tensor(decohered_q1q3_ent_state, q2q4_ent_state)\n",
    "\n",
    "# And let's reorder the tensor such that we much the previous defintion of qubits.\n",
    "joint_state = joint_state.permute([0,2,1,3])\n",
    "print('Fidelity of q1-q3 to bell state: {:.2f}'.format(fidelity(joint_state.ptrace([0,2]), qt.ket2dm(psi_ac))))\n",
    "print('Fidelity of q2-q4 to bell state: {:.2f}'.format(fidelity(joint_state.ptrace([1,3]), qt.ket2dm(psi_ac))))\n",
    "print('Probability of getting the state before timeout: {:.2f}'.format(prob_generation_before_timeout))\n",
    "print('Overall generation rate: {:1f} Hz'.format((1/fast_rate + 1/slow_rate) * (prob_generation_before_timeout)))\n",
    "print('Overall generation time: {:1f} s'.format(1/((1/fast_rate + 1/slow_rate) * (prob_generation_before_timeout))))"
   ]
  },
  {
   "cell_type": "markdown",
   "metadata": {},
   "source": [
    "Now we want to apply our conditional rotations to entangle q3 with q4 (carbon and electron of Charlie) and then disentangle q4 by measurement and feedback.\n",
    "\n",
    "<img src=\"images/cond_gate_el_ca.png\" width=\"20%\">"
   ]
  },
  {
   "cell_type": "code",
   "execution_count": 90,
   "metadata": {},
   "outputs": [],
   "source": [
    "q4_xmpi2 = qt.rotation(qt.sigmax(), -np.pi/2, 4, 3)\n",
    "q4_xppi2 = qt.rotation(qt.sigmax(), +np.pi/2, 4, 3)\n",
    "controlled_rot1 = qt.controlled_gate(qt.rotation(qt.sigmax(), np.pi/2), N=4, control=3, target=2, control_value=0)\n",
    "controlled_rot2 = qt.controlled_gate(qt.rotation(qt.sigmax(), -np.pi/2), N=4, control=3, target=2, control_value=1)\n",
    "elec_carb_gate = q4_xppi2 * controlled_rot2 * controlled_rot1 * q4_xmpi2\n",
    "\n",
    "joint_state = elec_carb_gate * joint_state * elec_carb_gate.dag()"
   ]
  },
  {
   "cell_type": "markdown",
   "metadata": {},
   "source": [
    "Now we can apply our classical feedback after measuring q4. If it is in zero we don't do anything."
   ]
  },
  {
   "cell_type": "code",
   "execution_count": 91,
   "metadata": {},
   "outputs": [],
   "source": [
    "q4_zero_proj = qt.tensor(qt.identity(2), qt.identity(2), qt.identity(2), qt.basis(2, 0).proj())\n",
    "q4_one_proj = qt.tensor(qt.identity(2), qt.identity(2), qt.identity(2), qt.basis(2, 1).proj())\n",
    "\n",
    "classical_feedback = q4_zero_proj + q4_one_proj*qt.rotation(qt.sigmax(), np.pi, 4, 0)*qt.rotation(qt.sigmaz(), np.pi, 4, 1)\n",
    "final_state = (classical_feedback * joint_state * classical_feedback.dag()).ptrace([0,1,2])"
   ]
  },
  {
   "cell_type": "code",
   "execution_count": 92,
   "metadata": {},
   "outputs": [
    {
     "name": "stdout",
     "output_type": "stream",
     "text": [
      "Fidelity of GHZ-like final state with target state: 0.533\n"
     ]
    }
   ],
   "source": [
    "zero = qt.basis(2, 0)\n",
    "one  = qt.basis(2, 1)\n",
    "s000 = qt.tensor(zero, zero, zero)\n",
    "s110 = qt.tensor(one, one, zero)\n",
    "s101 = qt.tensor(one, zero, one)\n",
    "s011 = qt.tensor(zero, one, one)\n",
    "target_state = (s000 + s110 + s101 + s011).unit()\n",
    "\n",
    "print('Fidelity of GHZ-like final state with target state: {:0.3f}'.format(fidelity(final_state, target_state)))"
   ]
  }
 ],
 "metadata": {
  "kernelspec": {
   "display_name": "Python 3",
   "language": "python",
   "name": "python3"
  },
  "language_info": {
   "codemirror_mode": {
    "name": "ipython",
    "version": 3
   },
   "file_extension": ".py",
   "mimetype": "text/x-python",
   "name": "python",
   "nbconvert_exporter": "python",
   "pygments_lexer": "ipython3",
   "version": "3.6.6"
  }
 },
 "nbformat": 4,
 "nbformat_minor": 2
}
