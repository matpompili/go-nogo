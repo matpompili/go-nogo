{
 "cells": [
  {
   "cell_type": "markdown",
   "metadata": {},
   "source": [
    "# PhD proposal - Matteo Pompili\n",
    "$\\newcommand{\\ket}[1]{|{#1}\\rangle} \\newcommand{\\bra}[1]{\\langle{#1}|} \\newcommand{\\braket}[1]{\\langle{#1}\\rangle} \\newcommand{\\ketbra}[1]{\\ket{#1}\\bra{#1}}$"
   ]
  },
  {
   "cell_type": "markdown",
   "metadata": {},
   "source": [
    "## Research goal\n",
    "\n",
    "The goal of my PhD is: **Demonstration of quantum applications on a multi-node network**"
   ]
  },
  {
   "cell_type": "markdown",
   "metadata": {},
   "source": [
    "## Achieved so far\n",
    "\n",
    "### Experimentally\n",
    "\n",
    "So far I built a new setup (LT5) that will act as one of the nodes in three-node experiment.\n",
    "By the end of November we should be able to generate entanglement between LT5 and LT4. \n",
    "\n",
    "### Courses\n",
    "\n",
    "#### January 2018\n",
    "+ Collaboration across disciplines (? GSC)\n",
    "\n",
    "#### October 2018  \n",
    "\n",
    "+ Conversation skills (2 GSC)\n",
    "\n",
    "#### November 2018\n",
    "\n",
    "+ Casimir Course - Programming (5 GSC)\n",
    "+ The Art of Presenting Science (5 GSC)\n",
    "+ QuTech Academy - Quantum Communication and Cryptography (5 GSC)\n",
    "\n",
    "#### December 2018\n",
    "\n",
    "+ Casimir Course - Electronics for Physicists (5 GSC)\n",
    "\n",
    "### Supervision\n",
    "\n",
    "I have been supervising Hans K. C. Beukers, a MSc student, since February. He has been working on improvements that, if successful, will increase the lifetime of our memory qubits.\n",
    "\n",
    "### Outreach\n",
    "\n",
    "I carried out two outreach activities within my MSCA network (*Spin-NANO*):\n",
    "\n",
    "+ January 2018, Sheffield, UK. Introduction to quantum- and nano-technologies to local high-school students.\n",
    "+ September 2018, Brussels, BE. Two days stand about quantum technologies at the ERN, EU Parlamentarium, mainly to children between 5 and 10."
   ]
  },
  {
   "cell_type": "markdown",
   "metadata": {},
   "source": [
    "## Plan\n",
    "\n",
    "#### 2019\n",
    "\n",
    "*Demonstrate the generation of a 3-node GHZ state* and use it to test violation of an appropriate inequality.\n",
    "One of the nodes will use a memory qubit. (First half of 2019)\n",
    "\n",
    "To be able to carry out complex experiments on a 3+ node network with NV centres we need to overhaul our classical controls. \n",
    "In particular, our software infrastructure, although very powerful, has not been updated in years. As a consequence implementing the new experiments would become extremely challenging. \n",
    "*I therefore plan to rewrite the needed software in a modern framework.* \n",
    "I will use the framework that is being developed for the QINC-demonstrator (qmi) and adapt and update our old code to run on this new platform. (Second half / third quarter of 2019)\n",
    "\n",
    "#### 2020\n",
    "\n",
    "*Build 4th node and demonstrate deterministic teleportation of entanglement* as proposed in the QNETWORK proposal. To achieve this we will need memory qubits on at least two nodes.\n",
    "\n",
    "note: Simon is probably leaving @ 3/4 of this year.\n",
    "\n",
    "#### 2021\n",
    "\n",
    "*Write thesis*"
   ]
  },
  {
   "cell_type": "markdown",
   "metadata": {},
   "source": [
    "### Violation of CHSH inequalities for 3-node GHZ state\n",
    "\n",
    "<img src=\"images/sketch_three_nodes.jpg\" width=\"50%\">\n",
    "\n",
    "Let's try to estimate the fidelity of the expected GHZ state. It is likely that we will run the first and second entanglment with different rates $\\alpha$, that is $\\alpha_1$ and $\\alpha_2$.\n",
    "\n",
    "The first entangled state, generated between *Alice* and *Charlie*, will run with $\\alpha_1$. We will probably prefer to run with a low rate here, to maximize fidelity, such that we can run faster with the second one (and lose less on dechoerence of the first entangled state). Let's say we choose $\\alpha_1 = \\max_{F_{AC}} \\alpha$, where $F_{AC}$ is the maximum fidelity of the entangled state between A and C. Dark counts on the ZPL detectors limit the minimum rate, so there will be an $\\alpha_1 > 0$ s.t. fidelity is optimized.\n",
    "\n",
    "If one assumes no dark counts and no other imperfections in the entanglement generation the fidelity of the state goes like $F(\\alpha) = (1-\\alpha)$"
   ]
  },
  {
   "cell_type": "code",
   "execution_count": 139,
   "metadata": {},
   "outputs": [
    {
     "data": {
      "image/png": "[encoded data removed]",
      "text/plain": [
       "<Figure size 432x288 with 1 Axes>"
      ]
     },
     "metadata": {},
     "output_type": "display_data"
    }
   ],
   "source": [
    "import numpy as np\n",
    "import qutip as qt\n",
    "import matplotlib.pyplot as plt\n",
    "\n",
    "plt.style.use('ggplot')\n",
    "\n",
    "def fidelity(*args):\n",
    "    return qt.fidelity(*args)**2\n",
    "\n",
    "alfas = np.linspace(0,1)\n",
    "fids = np.zeros_like(alfas)\n",
    "for i, x in enumerate(alfas):\n",
    "    updown = qt.tensor(qt.basis(2,1), qt.basis(2,0))\n",
    "    downup = qt.tensor(qt.basis(2,0), qt.basis(2,1))\n",
    "    upup = qt.tensor(qt.basis(2,1), qt.basis(2,1))\n",
    "    psi_ac = (updown + downup).unit()\n",
    "    rho_ac = (1-x) * qt.ket2dm(psi_ac) + (x) * qt.ket2dm(upup)\n",
    "    fids[i] = fidelity(rho_ac, qt.ket2dm(psi_ac))\n",
    "    \n",
    "plt.title('Fidelity without experimental imperfections')\n",
    "plt.xlabel(r'Bright state population $\\alpha$')\n",
    "plt.ylabel(r'Fidelity with $|\\Psi\\rangle$')\n",
    "plt.scatter(alfas, fids)\n",
    "plt.show()"
   ]
  },
  {
   "cell_type": "markdown",
   "metadata": {},
   "source": [
    "At this point the entangled state between A and C can be written as $\\rho_{AC} = f(F_{AC}) \\ketbra{\\Psi_{AC}} + (1-f(F_{AC})) \\frac{\\hat{\\mathbb{I}}}{4}$, where $f(F_{AC})$ is a number s.t. the fidelity of $\\rho_{AC}$ with $\\ketbra{\\Psi_{AC}}$ is $F_{AC}$. For example, if the fidelity is 0.80, then $f(\\alpha_1) \\approx 0.73$."
   ]
  },
  {
   "cell_type": "code",
   "execution_count": 148,
   "metadata": {},
   "outputs": [
    {
     "name": "stdout",
     "output_type": "stream",
     "text": [
      "Fidelity with f=0.73 is: 0.80\n"
     ]
    }
   ],
   "source": [
    "f=0.73\n",
    "downup = qt.tensor(qt.basis(2,0), qt.basis(2,1))\n",
    "updown = qt.tensor(qt.basis(2,1), qt.basis(2,0))\n",
    "psi_ac = (updown + downup).unit()\n",
    "mixed_state = qt.tensor(qt.maximally_mixed_dm(2), qt.maximally_mixed_dm(2))\n",
    "rho_ac = f * qt.ket2dm(psi_ac) + (1-f) * mixed_state\n",
    "print('Fidelity with f={} is: {:.2f}'.format(f, fidelity(rho_ac, qt.ket2dm(psi_ac))))"
   ]
  },
  {
   "cell_type": "markdown",
   "metadata": {},
   "source": [
    "At this point we perform our SWAP gate. The operation will have some fidelity with the ideal SWAP gate. We can model the final state as swapped with probability $p_{SWAP}$ and a mixed carbon state and mixed electron state with probability $1 - p_{SWAP}$. In the distillation paper $p_{SWAP} = 0.98$, but it needs to be combined with the probability of not flipping the electron upon reading (also $\\approx 0.98$). Let's write the whole process as $p_{SWAP} = 0.95$ success probability.\n",
    "$\\rho_{Ac} = p_{SWAP} (f\\ketbra{\\Psi} + (1-f)\\frac{\\hat{\\mathbb{I}}}{4}) + (1-p_{SWAP})tr_C[\\rho_{AC}] \\frac{\\hat{\\mathbb{I_c}}}{4}$.\n",
    "\n",
    "Let's make a quick test with the 0.8 fidelity of before and the swap gate, and let's check the fidelity afterwards."
   ]
  },
  {
   "cell_type": "code",
   "execution_count": 149,
   "metadata": {},
   "outputs": [
    {
     "name": "stdout",
     "output_type": "stream",
     "text": [
      "Fidelity of the state after the swap is: 0.77\n"
     ]
    }
   ],
   "source": [
    "p_swap = 0.95\n",
    "el_el_state = rho_ac\n",
    "el_carbon_state = p_swap * rho_ac + (1 - p_swap) * qt.tensor(rho_ac.ptrace(0), qt.maximally_mixed_dm(2))\n",
    "print('Fidelity of the state after the swap is: {:.2f}'.format(fidelity(el_carbon_state, qt.ket2dm(psi_ac))))"
   ]
  },
  {
   "cell_type": "markdown",
   "metadata": {},
   "source": [
    "At this point we want to generate entanglement again. The electron carbon state will dechoere as times passes. Off diagonal elements will decrese exponentially.\n",
    "In the distillation paper it looks like the number of cycles after which the state dechoered of $1/e$ is 270 ($\\approx 2ms$). At 1/e the fidelity of the entangles state is already lower than the classically correlated state. Therefore we either need to increase the coherence time, or we need to generate entanglement faster."
   ]
  },
  {
   "cell_type": "code",
   "execution_count": 106,
   "metadata": {},
   "outputs": [],
   "source": [
    "def dechoere(m, t, t0):\n",
    "    data = m.full()\n",
    "    diag_m = np.diagflat(m.diag())\n",
    "    data = diag_m + (data - diag_m) * np.exp(-t/t0)\n",
    "    return qt.Qobj(data, dims=m.dims)"
   ]
  },
  {
   "cell_type": "code",
   "execution_count": 152,
   "metadata": {},
   "outputs": [
    {
     "name": "stdout",
     "output_type": "stream",
     "text": [
      "Fidelity with the state after 200 attempts is: 0.59\n"
     ]
    }
   ],
   "source": [
    "cycles_to_entangle = 200\n",
    "cycles_of_coherence = 270\n",
    "fid = fidelity(qt.ket2dm(psi_ac), dechoere(el_carbon_state, cycles_to_entangle, cycles_of_coherence))\n",
    "print('Fidelity with the state after {} attempts is: {:.2f}'.format(cycles_to_entangle, fid))"
   ]
  }
 ],
 "metadata": {
  "kernelspec": {
   "display_name": "Python 3",
   "language": "python",
   "name": "python3"
  },
  "language_info": {
   "codemirror_mode": {
    "name": "ipython",
    "version": 3
   },
   "file_extension": ".py",
   "mimetype": "text/x-python",
   "name": "python",
   "nbconvert_exporter": "python",
   "pygments_lexer": "ipython3",
   "version": "3.6.6"
  }
 },
 "nbformat": 4,
 "nbformat_minor": 2
}
